{
 "cells": [
  {
   "cell_type": "code",
   "execution_count": 1,
   "metadata": {},
   "outputs": [],
   "source": [
    "import yaml\n",
    "from datetime import datetime\n",
    "\n",
    "from sqlalchemy.engine.url import URL\n",
    "import pandas as pd\n",
    "import matplotlib\n",
    "\n",
    "from triage.util.db import create_engine\n",
    "from triage.component.audition import Auditioner\n",
    "from triage.component.audition.rules_maker import SimpleRuleMaker, RandomGroupRuleMaker, TwoMetricsRuleMaker, create_selection_grid\n",
    "\n",
    "from triage.component.postmodeling.contrast.parameters import PostmodelParameters\n",
    "from triage.component.postmodeling.contrast.model_evaluator import ModelEvaluator\n",
    "from triage.component.postmodeling.contrast.model_group_evaluator import ModelGroupEvaluator"
   ]
  },
  {
   "cell_type": "code",
   "execution_count": 2,
   "metadata": {},
   "outputs": [],
   "source": [
    "# %matplotlib inline"
   ]
  },
  {
   "cell_type": "code",
   "execution_count": 3,
   "metadata": {},
   "outputs": [
    {
     "name": "stderr",
     "output_type": "stream",
     "text": [
      "/home/aaron/.pyenv/versions/donors-3.7.7/lib/python3.7/site-packages/ipykernel_launcher.py:2: YAMLLoadWarning: calling yaml.load() without Loader=... is deprecated, as the default Loader is unsafe. Please read https://msg.pyyaml.org/load for full details.\n",
      "  \n"
     ]
    }
   ],
   "source": [
    "# creating database engine\n",
    "dbconfig = yaml.load(open('database.yaml'))\n",
    "db_url = URL(\n",
    "            'postgres',\n",
    "            host=dbconfig['host'],\n",
    "            username=dbconfig['user'],\n",
    "            database=dbconfig['db'],\n",
    "            password=dbconfig['pass'],\n",
    "            port=dbconfig['port'],\n",
    "        )\n",
    "\n",
    "db_engine = create_engine(db_url)\n"
   ]
  },
  {
   "cell_type": "code",
   "execution_count": 4,
   "metadata": {},
   "outputs": [],
   "source": [
    "experiment_id = '119d1575035b5ab7052c790f34f498e8'\n",
    "\n",
    "mg_id_query = db_engine.execute('''\n",
    "select distinct model_group_id from \n",
    "model_metadata.model_groups\n",
    "join model_metadata.models using(model_group_id)\n",
    "where built_by_experiment = '{experiment}'\n",
    "'''.format(experiment = experiment_id))\n",
    "\n",
    "model_group_ids = [i[0] for i in mg_id_query]"
   ]
  },
  {
   "cell_type": "code",
   "execution_count": 5,
   "metadata": {},
   "outputs": [
    {
     "data": {
      "text/plain": [
       "528"
      ]
     },
     "execution_count": 5,
     "metadata": {},
     "output_type": "execute_result"
    }
   ],
   "source": [
    "len(model_group_ids)"
   ]
  },
  {
   "cell_type": "code",
   "execution_count": 6,
   "metadata": {},
   "outputs": [],
   "source": [
    "train_end_times = db_engine.execute('''\n",
    "select distinct train_end_time::timestamp\n",
    "from model_metadata.models\n",
    "where built_by_experiment ='{experiment}'\n",
    "order by train_end_time\n",
    "'''.format(experiment = experiment_id))\n",
    "\n",
    "train_end_times = [i[0] for i in train_end_times if i[0] > datetime(2012,1,1,0,0)]"
   ]
  },
  {
   "cell_type": "code",
   "execution_count": 7,
   "metadata": {},
   "outputs": [
    {
     "data": {
      "text/plain": [
       "[datetime.datetime(2012, 2, 1, 0, 0),\n",
       " datetime.datetime(2012, 3, 1, 0, 0),\n",
       " datetime.datetime(2012, 4, 1, 0, 0),\n",
       " datetime.datetime(2012, 5, 1, 0, 0),\n",
       " datetime.datetime(2012, 6, 1, 0, 0),\n",
       " datetime.datetime(2012, 7, 1, 0, 0),\n",
       " datetime.datetime(2012, 8, 1, 0, 0),\n",
       " datetime.datetime(2012, 9, 1, 0, 0),\n",
       " datetime.datetime(2012, 10, 1, 0, 0),\n",
       " datetime.datetime(2012, 11, 1, 0, 0),\n",
       " datetime.datetime(2012, 12, 1, 0, 0),\n",
       " datetime.datetime(2013, 1, 1, 0, 0)]"
      ]
     },
     "execution_count": 7,
     "metadata": {},
     "output_type": "execute_result"
    }
   ],
   "source": [
    "train_end_times"
   ]
  },
  {
   "cell_type": "code",
   "execution_count": 18,
   "metadata": {},
   "outputs": [],
   "source": [
    "aud = Auditioner(\n",
    "    db_engine,\n",
    "    model_group_ids,\n",
    "    train_end_times,\n",
    "    initial_metric_filters=\n",
    "    [{'metric':'precision@',\n",
    "      'parameter':'50_abs',\n",
    "      'max_from_best':0.2,\n",
    "#       'max_from_best':1,\n",
    "#       'threshold_value':0\n",
    "      'threshold_value':0.5\n",
    "     }],\n",
    "    models_table = 'models',\n",
    "    directory = 'triage_output'\n",
    ")"
   ]
  },
  {
   "cell_type": "code",
   "execution_count": 19,
   "metadata": {},
   "outputs": [],
   "source": [
    "aud.plot_model_groups()"
   ]
  },
  {
   "cell_type": "code",
   "execution_count": 20,
   "metadata": {},
   "outputs": [],
   "source": [
    "ids = aud.thresholded_model_group_ids"
   ]
  },
  {
   "cell_type": "code",
   "execution_count": 21,
   "metadata": {},
   "outputs": [],
   "source": [
    "Rule1 = SimpleRuleMaker()\n",
    "Rule1.add_rule_best_current_value(metric='precision@', parameter='50_abs', n=3)\n",
    "Rule1.add_rule_best_average_value(metric = 'precision@', parameter = '50_abs', n=3)\n",
    "Rule1.add_rule_best_avg_var_penalized(metric='precision@', parameter='50_abs', stdev_penalty=[0.3, 0.5, 0.8], n=3)\n",
    "Rule1.add_rule_most_frequent_best_dist(\n",
    "        metric='precision@',\n",
    "        parameter='50_abs',\n",
    "        dist_from_best_case=[0.1, .05, .03, .01],\n",
    "        n=3)\n",
    "rules = create_selection_grid(Rule1)"
   ]
  },
  {
   "cell_type": "code",
   "execution_count": 12,
   "metadata": {
    "scrolled": false
   },
   "outputs": [],
   "source": [
    "aud.register_selection_rule_grid(rules, plot=True)"
   ]
  },
  {
   "cell_type": "code",
   "execution_count": 13,
   "metadata": {},
   "outputs": [
    {
     "data": {
      "text/plain": [
       "{'best_current_value_precision@_50_abs': [4611, 4656, 4653],\n",
       " 'best_average_value_precision@_50_abs': [4628, 4493, 4652],\n",
       " 'best_avg_var_penalized_precision@_50_abs_0.3': [4628, 4493, 4627],\n",
       " 'best_avg_var_penalized_precision@_50_abs_0.5': [4628, 4493, 4627],\n",
       " 'best_avg_var_penalized_precision@_50_abs_0.8': [4628, 4493, 4627],\n",
       " 'most_frequent_best_dist_precision@_50_abs_0.1': [4459, 4466, 4475],\n",
       " 'most_frequent_best_dist_precision@_50_abs_0.05': [4558, 4468, 4493],\n",
       " 'most_frequent_best_dist_precision@_50_abs_0.03': [4561, 4575, 4585],\n",
       " 'most_frequent_best_dist_precision@_50_abs_0.01': [4681, 4789, 4793]}"
      ]
     },
     "execution_count": 13,
     "metadata": {},
     "output_type": "execute_result"
    }
   ],
   "source": [
    "selected_groups = aud.selection_rule_model_group_ids\n",
    "selected_groups"
   ]
  },
  {
   "cell_type": "markdown",
   "metadata": {},
   "source": [
    "Calculating most commonly selected models"
   ]
  },
  {
   "cell_type": "code",
   "execution_count": 14,
   "metadata": {},
   "outputs": [
    {
     "data": {
      "text/plain": [
       "{'precision@50_abs': {'best_average_value_precision@_50_abs': 0.11636363636363636,\n",
       "  'best_avg_var_penalized_precision@_50_abs_0.3': 0.12545454545454546,\n",
       "  'best_avg_var_penalized_precision@_50_abs_0.5': 0.13272727272727275,\n",
       "  'best_avg_var_penalized_precision@_50_abs_0.8': 0.13272727272727275,\n",
       "  'best_current_value_precision@_50_abs': 0.11272727272727275,\n",
       "  'most_frequent_best_dist_precision@_50_abs_0.01': 0.1581818181818182,\n",
       "  'most_frequent_best_dist_precision@_50_abs_0.03': 0.12181818181818183,\n",
       "  'most_frequent_best_dist_precision@_50_abs_0.05': 0.1,\n",
       "  'most_frequent_best_dist_precision@_50_abs_0.1': 0.14909090909090908}}"
      ]
     },
     "execution_count": 14,
     "metadata": {},
     "output_type": "execute_result"
    }
   ],
   "source": [
    "aud.average_regret_for_rules"
   ]
  },
  {
   "cell_type": "code",
   "execution_count": 15,
   "metadata": {},
   "outputs": [
    {
     "data": {
      "text/plain": [
       "{4611: 1,\n",
       " 4656: 1,\n",
       " 4653: 1,\n",
       " 4628: 4,\n",
       " 4493: 5,\n",
       " 4652: 1,\n",
       " 4627: 3,\n",
       " 4459: 1,\n",
       " 4466: 1,\n",
       " 4475: 1,\n",
       " 4558: 1,\n",
       " 4468: 1,\n",
       " 4561: 1,\n",
       " 4575: 1,\n",
       " 4585: 1,\n",
       " 4681: 1,\n",
       " 4789: 1,\n",
       " 4793: 1}"
      ]
     },
     "execution_count": 15,
     "metadata": {},
     "output_type": "execute_result"
    }
   ],
   "source": [
    "mgs = {}\n",
    "for value in selected_groups.values():\n",
    "    for group_id in value:\n",
    "        if group_id in mgs.keys():\n",
    "            mgs[group_id] += 1\n",
    "        else:\n",
    "            mgs[group_id] = 1\n",
    "\n",
    "mgs"
   ]
  },
  {
   "cell_type": "code",
   "execution_count": 16,
   "metadata": {
    "scrolled": true
   },
   "outputs": [
    {
     "data": {
      "text/plain": [
       "[(4611, 'sklearn.ensemble.RandomForestClassifier', {'max_depth': 10, 'max_features': 12, 'n_estimators': 1000, 'min_samples_split': 50}),\n",
       " (4653, 'sklearn.ensemble.RandomForestClassifier', {'max_depth': 10, 'max_features': 15, 'n_estimators': 10000, 'min_samples_split': 50}),\n",
       " (4656, 'sklearn.ensemble.RandomForestClassifier', {'max_depth': 10, 'max_features': 'log2', 'n_estimators': 1000, 'min_samples_split': 25})]"
      ]
     },
     "execution_count": 16,
     "metadata": {},
     "output_type": "execute_result"
    }
   ],
   "source": [
    "model_groups = db_engine.execute('''\n",
    "select distinct \n",
    "    model_group_id, \n",
    "    model_type, \n",
    "    hyperparameters \n",
    "from model_metadata.model_groups\n",
    "where model_group_id = any(array{})\n",
    "'''.format(selected_groups['best_current_value_precision@_50_abs']))\n",
    "\n",
    "[i for i in model_groups]"
   ]
  },
  {
   "cell_type": "code",
   "execution_count": 17,
   "metadata": {},
   "outputs": [],
   "source": [
    "aud.save_result_model_group_ids(fname=\"results_model_group_ids.json\")"
   ]
  }
 ],
 "metadata": {
  "kernelspec": {
   "display_name": "Python 3",
   "language": "python",
   "name": "python3"
  },
  "language_info": {
   "codemirror_mode": {
    "name": "ipython",
    "version": 3
   },
   "file_extension": ".py",
   "mimetype": "text/x-python",
   "name": "python",
   "nbconvert_exporter": "python",
   "pygments_lexer": "ipython3",
   "version": "3.7.7"
  }
 },
 "nbformat": 4,
 "nbformat_minor": 4
}
