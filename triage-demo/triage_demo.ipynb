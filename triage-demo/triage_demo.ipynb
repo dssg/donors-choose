{
 "cells": [
  {
   "cell_type": "markdown",
   "metadata": {},
   "source": [
    "**Narrowing down DonorsChoose for a quick triage demo** "
   ]
  },
  {
   "cell_type": "code",
   "execution_count": 1,
   "metadata": {},
   "outputs": [],
   "source": [
    "import yaml\n",
    "import pandas as pd\n",
    "import psycopg2\n",
    "from triage.experiments import MultiCoreExperiment\n",
    "from triage import create_engine\n",
    "from sqlalchemy.engine.url import URL"
   ]
  },
  {
   "cell_type": "markdown",
   "metadata": {},
   "source": [
    "#### DB Conn"
   ]
  },
  {
   "cell_type": "code",
   "execution_count": 2,
   "metadata": {},
   "outputs": [],
   "source": [
    "with open('database.yaml', 'r') as f:\n",
    "    config = yaml.safe_load(f)\n",
    "    db_url = URL(\n",
    "        'postgres',\n",
    "        host=config['host'],\n",
    "        username=config['user'],\n",
    "        database=config['db'],\n",
    "        password=config['pass'],\n",
    "        port=config['port'],\n",
    "    )\n",
    "\n",
    "    conn = create_engine(db_url)"
   ]
  },
  {
   "cell_type": "markdown",
   "metadata": {},
   "source": [
    "Steps:\n",
    "- Create a sampled down version of the donors choose data\n",
    "- Create a handful of features to demonstrate the feature engineering capabilities of triage\n",
    "- run a small model grid with three models (Logit, DT, RF)\n",
    "- Target is to get the triage run finished in a few mins"
   ]
  },
  {
   "cell_type": "markdown",
   "metadata": {},
   "source": [
    "#### Creating the Sampled down version of donors\n",
    "\n",
    "For testing, I'm creating a new projects table that contains prjects from ~10% schools in the dataset and changing the cohort query read from the \"new\" projects table.\n",
    "\n",
    "Note -- There are about 57000 different schools. We can change how we sample"
   ]
  },
  {
   "cell_type": "markdown",
   "metadata": {
    "tags": []
   },
   "source": [
    "#### Schema\n",
    "\n",
    "We create a schema that has a sampled data set from projects"
   ]
  },
  {
   "cell_type": "code",
   "execution_count": 41,
   "metadata": {},
   "outputs": [],
   "source": [
    "sampled_schema_script = 'create_sampled_schema.sql'\n",
    "\n",
    "with open(sampled_schema_script, 'r') as script:\n",
    "    conn.execute(script.read())"
   ]
  },
  {
   "cell_type": "markdown",
   "metadata": {},
   "source": [
    "#### Triage config\n",
    "\n",
    "Contains six features. Two static, two time-series but precomputed, two time-series calculated during triage run"
   ]
  },
  {
   "cell_type": "code",
   "execution_count": 44,
   "metadata": {},
   "outputs": [],
   "source": [
    "with open('demo_config.yaml', 'r') as f:\n",
    "    triage_config = yaml.safe_load(f)\n",
    "    \n",
    "# TODO -- replace with an S3 bucket\n",
    "project_folder = '/mnt/data/experiment_data/donors/demo/'"
   ]
  },
  {
   "cell_type": "markdown",
   "metadata": {},
   "source": [
    "#### Experiment"
   ]
  },
  {
   "cell_type": "code",
   "execution_count": 50,
   "metadata": {},
   "outputs": [
    {
     "name": "stdout",
     "output_type": "stream",
     "text": [
      "\u001b[32m2021-09-20 22:47:54\u001b[0m - \u001b[1;30mVERBOSE\u001b[0m \u001b[34mMatrices and trained models will be saved in /mnt/data/experiment_data/donors/demo/\u001b[0m\n",
      "\u001b[32m2021-09-20 22:47:54\u001b[0m - \u001b[1;30m NOTICE\u001b[0m \u001b[35mReplace flag is set to true. Matrices, models, evaluations and predictions (if exist) will be replaced\u001b[0m\n",
      "\u001b[32m2021-09-20 22:47:54\u001b[0m - \u001b[1;30m NOTICE\u001b[0m \u001b[35mRandom seed not specified. A random seed will be provided. This could have interesting side effects, e.g. new models per model group are trained, tested and evaluated everytime that you run this experiment configuration\u001b[0m\n",
      "\u001b[32m2021-09-20 22:47:54\u001b[0m - \u001b[1;30mVERBOSE\u001b[0m \u001b[34mUsing random seed [3711149] for running the experiment\u001b[0m\n",
      "\u001b[32m2021-09-20 22:47:54\u001b[0m - \u001b[1;30m NOTICE\u001b[0m \u001b[35mbias_audit_config missing in the configuration file or unrecognized. Without protected groups, you will not audit your models for bias and fairness.\u001b[0m\n",
      "\u001b[32m2021-09-20 22:47:54\u001b[0m - \u001b[1;30m NOTICE\u001b[0m \u001b[35mscoring.subsets missing in the configuration file or unrecognized. No subsets will be generated\u001b[0m\n"
     ]
    }
   ],
   "source": [
    "experiment = MultiCoreExperiment(\n",
    "    config=triage_config,\n",
    "    db_engine=conn,\n",
    "    n_processes=2,\n",
    "    n_db_processes=2,\n",
    "    project_path=project_folder,\n",
    "    replace=True,\n",
    "    save_predictions=True\n",
    ")"
   ]
  },
  {
   "cell_type": "code",
   "execution_count": 51,
   "metadata": {},
   "outputs": [
    {
     "name": "stdout",
     "output_type": "stream",
     "text": [
      "\u001b[32m2021-09-20 22:47:57\u001b[0m - \u001b[1;30mWARNING\u001b[0m \u001b[33mSection: scoring - No training_metric_groups configured. If training set evaluation metrics are desired, they must be added\u001b[0m\n",
      "\u001b[32m2021-09-20 22:47:57\u001b[0m - \u001b[1;30mSUCCESS\u001b[0m \u001b[1;32mExperiment validation ran to completion with no errors\u001b[0m\n",
      "\u001b[32m2021-09-20 22:47:57\u001b[0m - \u001b[1;30mVERBOSE\u001b[0m \u001b[34mComputed and stored temporal split definitions\u001b[0m\n",
      "\u001b[32m2021-09-20 22:47:57\u001b[0m - \u001b[1;30m   INFO\u001b[0m Setting up cohort\n",
      "\u001b[32m2021-09-20 22:48:00\u001b[0m - \u001b[1;30mSUCCESS\u001b[0m \u001b[1;32mCohort setted up in the table cohort_all_entities_c86920bbaf9b0aefd0005b5c6773a88a successfully\u001b[0m\n",
      "\u001b[32m2021-09-20 22:48:00\u001b[0m - \u001b[1;30m   INFO\u001b[0m Setting up labels\n",
      "\u001b[32m2021-09-20 22:48:11\u001b[0m - \u001b[1;30mSUCCESS\u001b[0m \u001b[1;32mLabels setted up in the table labels_quickstart_label_b4877d7091c3e743a36e324c945d1a97 successfully \u001b[0m\n",
      "\u001b[32m2021-09-20 22:48:11\u001b[0m - \u001b[1;30m   INFO\u001b[0m Creating features tables (before imputation) \n",
      "\u001b[32m2021-09-20 22:48:11\u001b[0m - \u001b[1;30m   INFO\u001b[0m Creating collate aggregations\n",
      "\u001b[32m2021-09-20 22:48:11\u001b[0m - \u001b[1;30mVERBOSE\u001b[0m \u001b[34mStarting Feature aggregation\u001b[0m\n"
     ]
    },
    {
     "name": "stderr",
     "output_type": "stream",
     "text": [
      "/home/kasun/.pyenv/versions/triage-demo/lib/python3.7/site-packages/sqlalchemy/sql/base.py:302: SAWarning: Can't validate argument 'autoload_from'; can't locate any SQLAlchemy dialect named 'autoload'\n",
      "  % (k, dialect_name)\n"
     ]
    },
    {
     "name": "stdout",
     "output_type": "stream",
     "text": [
      "\u001b[32m2021-09-20 22:48:12\u001b[0m - \u001b[1;30m NOTICE\u001b[0m \u001b[35mImputed feature table project_features_aggregation_imputed looks good, skipping feature building!\u001b[0m\n",
      "\u001b[32m2021-09-20 22:48:12\u001b[0m - \u001b[1;30m NOTICE\u001b[0m \u001b[35mImputed feature table teachr_funding_aggregation_imputed looks good, skipping feature building!\u001b[0m\n",
      "\u001b[32m2021-09-20 22:48:13\u001b[0m - \u001b[1;30m NOTICE\u001b[0m \u001b[35mImputed feature table donation_features_aggregation_imputed looks good, skipping feature building!\u001b[0m\n",
      "\u001b[32m2021-09-20 22:48:13\u001b[0m - \u001b[1;30m   INFO\u001b[0m Processing query tasks with 2 processes\n",
      "\u001b[32m2021-09-20 22:48:13\u001b[0m - \u001b[1;30m   INFO\u001b[0m Processing features for project_features_entity_id\n",
      "\u001b[32m2021-09-20 22:48:13\u001b[0m - \u001b[1;30m   INFO\u001b[0m Beginning insert batch\n",
      "\u001b[32m2021-09-20 22:48:13\u001b[0m - \u001b[1;30m   INFO\u001b[0m Beginning insert batch\n",
      "\u001b[32m2021-09-20 22:48:13\u001b[0m - \u001b[1;30m   INFO\u001b[0m Beginning insert batch\n",
      "\u001b[32m2021-09-20 22:48:13\u001b[0m - \u001b[1;30m   INFO\u001b[0m Beginning insert batch\n",
      "\u001b[32m2021-09-20 22:48:13\u001b[0m - \u001b[1;30m   INFO\u001b[0m Beginning insert batch\n",
      "\u001b[32m2021-09-20 22:48:13\u001b[0m - \u001b[1;30m   INFO\u001b[0m Beginning insert batch\n",
      "\u001b[32m2021-09-20 22:48:13\u001b[0m - \u001b[1;30m   INFO\u001b[0m Beginning insert batch\n",
      "\u001b[32m2021-09-20 22:48:13\u001b[0m - \u001b[1;30m   INFO\u001b[0m Beginning insert batch\n",
      "\u001b[32m2021-09-20 22:48:13\u001b[0m - \u001b[1;30m   INFO\u001b[0m Beginning insert batch\n",
      "\u001b[32m2021-09-20 22:48:13\u001b[0m - \u001b[1;30m   INFO\u001b[0m Beginning insert batch\n",
      "\u001b[32m2021-09-20 22:48:13\u001b[0m - \u001b[1;30m   INFO\u001b[0m Beginning insert batch\n",
      "\u001b[32m2021-09-20 22:48:13\u001b[0m - \u001b[1;30m   INFO\u001b[0m Beginning insert batch\n",
      "\u001b[32m2021-09-20 22:48:14\u001b[0m - \u001b[1;30m   INFO\u001b[0m Beginning insert batch\n",
      "\u001b[32m2021-09-20 22:48:14\u001b[0m - \u001b[1;30m   INFO\u001b[0m Beginning insert batch\n",
      "\u001b[32m2021-09-20 22:48:14\u001b[0m - \u001b[1;30m   INFO\u001b[0m Beginning insert batch\n",
      "\u001b[32m2021-09-20 22:48:14\u001b[0m - \u001b[1;30m   INFO\u001b[0m Beginning insert batch\n",
      "\u001b[32m2021-09-20 22:48:14\u001b[0m - \u001b[1;30m   INFO\u001b[0m Beginning insert batch\n",
      "\u001b[32m2021-09-20 22:48:14\u001b[0m - \u001b[1;30m   INFO\u001b[0m Beginning insert batch\n",
      "\u001b[32m2021-09-20 22:48:14\u001b[0m - \u001b[1;30m   INFO\u001b[0m Beginning insert batch\n",
      "\u001b[32m2021-09-20 22:48:14\u001b[0m - \u001b[1;30m   INFO\u001b[0m Beginning insert batch\n",
      "\u001b[32m2021-09-20 22:48:14\u001b[0m - \u001b[1;30m   INFO\u001b[0m Done. successes: 20, failures: 0\n",
      "\u001b[32m2021-09-20 22:48:14\u001b[0m - \u001b[1;30m   INFO\u001b[0m project_features_entity_id completed\n",
      "\u001b[32m2021-09-20 22:48:14\u001b[0m - \u001b[1;30m   INFO\u001b[0m Processing features for project_features_aggregation\n",
      "\u001b[32m2021-09-20 22:48:19\u001b[0m - \u001b[1;30m   INFO\u001b[0m Done. successes: 0, failures: 0\n",
      "\u001b[32m2021-09-20 22:48:21\u001b[0m - \u001b[1;30m   INFO\u001b[0m project_features_aggregation completed\n",
      "\u001b[32m2021-09-20 22:48:21\u001b[0m - \u001b[1;30m   INFO\u001b[0m Processing features for teachr_funding_entity_id\n",
      "\u001b[32m2021-09-20 22:48:22\u001b[0m - \u001b[1;30m   INFO\u001b[0m Beginning insert batch\n",
      "\u001b[32m2021-09-20 22:48:22\u001b[0m - \u001b[1;30m   INFO\u001b[0m Beginning insert batch\n",
      "\u001b[32m2021-09-20 22:48:22\u001b[0m - \u001b[1;30m   INFO\u001b[0m Beginning insert batch\n",
      "\u001b[32m2021-09-20 22:48:22\u001b[0m - \u001b[1;30m   INFO\u001b[0m Beginning insert batch\n",
      "\u001b[32m2021-09-20 22:48:22\u001b[0m - \u001b[1;30m   INFO\u001b[0m Beginning insert batch\n",
      "\u001b[32m2021-09-20 22:48:22\u001b[0m - \u001b[1;30m   INFO\u001b[0m Beginning insert batch\n",
      "\u001b[32m2021-09-20 22:48:22\u001b[0m - \u001b[1;30m   INFO\u001b[0m Beginning insert batch\n",
      "\u001b[32m2021-09-20 22:48:22\u001b[0m - \u001b[1;30m   INFO\u001b[0m Beginning insert batch\n",
      "\u001b[32m2021-09-20 22:48:22\u001b[0m - \u001b[1;30m   INFO\u001b[0m Beginning insert batch\n",
      "\u001b[32m2021-09-20 22:48:22\u001b[0m - \u001b[1;30m   INFO\u001b[0m Beginning insert batch\n",
      "\u001b[32m2021-09-20 22:48:22\u001b[0m - \u001b[1;30m   INFO\u001b[0m Beginning insert batch\n",
      "\u001b[32m2021-09-20 22:48:22\u001b[0m - \u001b[1;30m   INFO\u001b[0m Beginning insert batch\n",
      "\u001b[32m2021-09-20 22:48:22\u001b[0m - \u001b[1;30m   INFO\u001b[0m Beginning insert batch\n",
      "\u001b[32m2021-09-20 22:48:22\u001b[0m - \u001b[1;30m   INFO\u001b[0m Beginning insert batch\n",
      "\u001b[32m2021-09-20 22:48:22\u001b[0m - \u001b[1;30m   INFO\u001b[0m Beginning insert batch\n",
      "\u001b[32m2021-09-20 22:48:22\u001b[0m - \u001b[1;30m   INFO\u001b[0m Beginning insert batch\n",
      "\u001b[32m2021-09-20 22:48:22\u001b[0m - \u001b[1;30m   INFO\u001b[0m Beginning insert batch\n",
      "\u001b[32m2021-09-20 22:48:22\u001b[0m - \u001b[1;30m   INFO\u001b[0m Beginning insert batch\n",
      "\u001b[32m2021-09-20 22:48:23\u001b[0m - \u001b[1;30m   INFO\u001b[0m Beginning insert batch\n",
      "\u001b[32m2021-09-20 22:48:23\u001b[0m - \u001b[1;30m   INFO\u001b[0m Beginning insert batch\n",
      "\u001b[32m2021-09-20 22:48:23\u001b[0m - \u001b[1;30m   INFO\u001b[0m Done. successes: 20, failures: 0\n",
      "\u001b[32m2021-09-20 22:48:23\u001b[0m - \u001b[1;30m   INFO\u001b[0m teachr_funding_entity_id completed\n",
      "\u001b[32m2021-09-20 22:48:23\u001b[0m - \u001b[1;30m   INFO\u001b[0m Processing features for teachr_funding_aggregation\n",
      "\u001b[32m2021-09-20 22:48:23\u001b[0m - \u001b[1;30m   INFO\u001b[0m Done. successes: 0, failures: 0\n",
      "\u001b[32m2021-09-20 22:48:23\u001b[0m - \u001b[1;30m   INFO\u001b[0m teachr_funding_aggregation completed\n",
      "\u001b[32m2021-09-20 22:48:23\u001b[0m - \u001b[1;30m   INFO\u001b[0m Processing features for donation_features_entity_id\n",
      "\u001b[32m2021-09-20 22:48:23\u001b[0m - \u001b[1;30m   INFO\u001b[0m Beginning insert batch\n",
      "\u001b[32m2021-09-20 22:48:23\u001b[0m - \u001b[1;30m   INFO\u001b[0m Beginning insert batch\n",
      "\u001b[32m2021-09-20 22:48:23\u001b[0m - \u001b[1;30m   INFO\u001b[0m Beginning insert batch\n",
      "\u001b[32m2021-09-20 22:48:23\u001b[0m - \u001b[1;30m   INFO\u001b[0m Beginning insert batch\n",
      "\u001b[32m2021-09-20 22:48:23\u001b[0m - \u001b[1;30m   INFO\u001b[0m Beginning insert batch\n",
      "\u001b[32m2021-09-20 22:48:23\u001b[0m - \u001b[1;30m   INFO\u001b[0m Beginning insert batch\n",
      "\u001b[32m2021-09-20 22:48:23\u001b[0m - \u001b[1;30m   INFO\u001b[0m Beginning insert batch\n",
      "\u001b[32m2021-09-20 22:48:23\u001b[0m - \u001b[1;30m   INFO\u001b[0m Beginning insert batch\n",
      "\u001b[32m2021-09-20 22:48:23\u001b[0m - \u001b[1;30m   INFO\u001b[0m Beginning insert batch\n",
      "\u001b[32m2021-09-20 22:48:23\u001b[0m - \u001b[1;30m   INFO\u001b[0m Beginning insert batch\n",
      "\u001b[32m2021-09-20 22:48:23\u001b[0m - \u001b[1;30m   INFO\u001b[0m Beginning insert batch\n",
      "\u001b[32m2021-09-20 22:48:24\u001b[0m - \u001b[1;30m   INFO\u001b[0m Beginning insert batch\n",
      "\u001b[32m2021-09-20 22:48:24\u001b[0m - \u001b[1;30m   INFO\u001b[0m Beginning insert batch\n",
      "\u001b[32m2021-09-20 22:48:24\u001b[0m - \u001b[1;30m   INFO\u001b[0m Beginning insert batch\n",
      "\u001b[32m2021-09-20 22:48:24\u001b[0m - \u001b[1;30m   INFO\u001b[0m Beginning insert batch\n",
      "\u001b[32m2021-09-20 22:48:24\u001b[0m - \u001b[1;30m   INFO\u001b[0m Beginning insert batch\n",
      "\u001b[32m2021-09-20 22:48:24\u001b[0m - \u001b[1;30m   INFO\u001b[0m Beginning insert batch\n",
      "\u001b[32m2021-09-20 22:48:24\u001b[0m - \u001b[1;30m   INFO\u001b[0m Beginning insert batch\n",
      "\u001b[32m2021-09-20 22:48:24\u001b[0m - \u001b[1;30m   INFO\u001b[0m Beginning insert batch\n",
      "\u001b[32m2021-09-20 22:48:24\u001b[0m - \u001b[1;30m   INFO\u001b[0m Beginning insert batch\n",
      "\u001b[32m2021-09-20 22:48:24\u001b[0m - \u001b[1;30m   INFO\u001b[0m Done. successes: 20, failures: 0\n",
      "\u001b[32m2021-09-20 22:48:24\u001b[0m - \u001b[1;30m   INFO\u001b[0m donation_features_entity_id completed\n",
      "\u001b[32m2021-09-20 22:48:24\u001b[0m - \u001b[1;30m   INFO\u001b[0m Processing features for donation_features_aggregation\n",
      "\u001b[32m2021-09-20 22:48:29\u001b[0m - \u001b[1;30m   INFO\u001b[0m Done. successes: 0, failures: 0\n",
      "\u001b[32m2021-09-20 22:48:31\u001b[0m - \u001b[1;30m   INFO\u001b[0m donation_features_aggregation completed\n",
      "\u001b[32m2021-09-20 22:48:31\u001b[0m - \u001b[1;30mSUCCESS\u001b[0m \u001b[1;32mFeatures (before imputation) were stored in the tables \"features\".\"project_features_aggregation\",\"features\".\"teachr_funding_aggregation\",\"features\".\"donation_features_aggregation\" successfully\u001b[0m\n",
      "\u001b[32m2021-09-20 22:48:31\u001b[0m - \u001b[1;30m   INFO\u001b[0m Imputing missing values in features\n",
      "\u001b[32m2021-09-20 22:48:31\u001b[0m - \u001b[1;30mVERBOSE\u001b[0m \u001b[34mStarting Feature imputation\u001b[0m\n",
      "\u001b[32m2021-09-20 22:48:31\u001b[0m - \u001b[1;30m   INFO\u001b[0m Processing query tasks with 2 processes\n",
      "\u001b[32m2021-09-20 22:48:31\u001b[0m - \u001b[1;30m   INFO\u001b[0m Processing features for project_features_aggregation_imputed\n",
      "\u001b[32m2021-09-20 22:48:31\u001b[0m - \u001b[1;30m   INFO\u001b[0m Done. successes: 0, failures: 0\n",
      "\u001b[32m2021-09-20 22:48:31\u001b[0m - \u001b[1;30m   INFO\u001b[0m project_features_aggregation_imputed completed\n",
      "\u001b[32m2021-09-20 22:48:31\u001b[0m - \u001b[1;30m   INFO\u001b[0m Processing features for teachr_funding_aggregation_imputed\n",
      "\u001b[32m2021-09-20 22:48:31\u001b[0m - \u001b[1;30m   INFO\u001b[0m Done. successes: 0, failures: 0\n",
      "\u001b[32m2021-09-20 22:48:31\u001b[0m - \u001b[1;30m   INFO\u001b[0m teachr_funding_aggregation_imputed completed\n",
      "\u001b[32m2021-09-20 22:48:31\u001b[0m - \u001b[1;30m   INFO\u001b[0m Processing features for donation_features_aggregation_imputed\n",
      "\u001b[32m2021-09-20 22:48:31\u001b[0m - \u001b[1;30m   INFO\u001b[0m Done. successes: 0, failures: 0\n",
      "\u001b[32m2021-09-20 22:48:32\u001b[0m - \u001b[1;30m   INFO\u001b[0m donation_features_aggregation_imputed completed\n",
      "\u001b[32m2021-09-20 22:48:32\u001b[0m - \u001b[1;30mSUCCESS\u001b[0m \u001b[1;32mImputed features were stored in the tables \"features\".\"project_features_aggregation_imputed\",\"features\".\"teachr_funding_aggregation_imputed\",\"features\".\"donation_features_aggregation_imputed\" successfully\u001b[0m\n",
      "\u001b[32m2021-09-20 22:48:32\u001b[0m - \u001b[1;30mVERBOSE\u001b[0m \u001b[34mFound 1 total feature subsets\u001b[0m\n",
      "\u001b[32m2021-09-20 22:48:32\u001b[0m - \u001b[1;30m   INFO\u001b[0m Building matrices\n",
      "\u001b[32m2021-09-20 22:48:32\u001b[0m - \u001b[1;30mVERBOSE\u001b[0m \u001b[34mIt is necessary to build 6 matrices\u001b[0m\n",
      "\u001b[32m2021-09-20 22:48:32\u001b[0m - \u001b[1;30m   INFO\u001b[0m Starting parallel matrix building: 6 matrices, 2 processes\n",
      "\u001b[32m2021-09-20 22:48:32\u001b[0m - \u001b[1;30m   INFO\u001b[0m Matrix 5e5c1ac7b501f58584be2898aefdd44f saved in /mnt/data/experiment_data/donors/demo/matrices/5e5c1ac7b501f58584be2898aefdd44f.csv.gz\n",
      "\u001b[32m2021-09-20 22:48:32\u001b[0m - \u001b[1;30m   INFO\u001b[0m Matrix 0760de28140cbfcb3a60cf887b5ae12c saved in /mnt/data/experiment_data/donors/demo/matrices/0760de28140cbfcb3a60cf887b5ae12c.csv.gz\n",
      "\u001b[32m2021-09-20 22:48:32\u001b[0m - \u001b[1;30m   INFO\u001b[0m Matrix 5dd3ba16dfde73e9a3003beafb39ec58 saved in /mnt/data/experiment_data/donors/demo/matrices/5dd3ba16dfde73e9a3003beafb39ec58.csv.gz\n",
      "\u001b[32m2021-09-20 22:48:32\u001b[0m - \u001b[1;30m   INFO\u001b[0m Matrix bb56b6b45ddbeb12b7a626c08fbccbbf saved in /mnt/data/experiment_data/donors/demo/matrices/bb56b6b45ddbeb12b7a626c08fbccbbf.csv.gz\n",
      "\u001b[32m2021-09-20 22:48:32\u001b[0m - \u001b[1;30m   INFO\u001b[0m Matrix b4f0e0fdf6b9f666a708b3ccbc46f0c9 saved in /mnt/data/experiment_data/donors/demo/matrices/b4f0e0fdf6b9f666a708b3ccbc46f0c9.csv.gz\n",
      "\u001b[32m2021-09-20 22:48:32\u001b[0m - \u001b[1;30m   INFO\u001b[0m Matrix 6680b0c0d0464c079b84e039bb50911e saved in /mnt/data/experiment_data/donors/demo/matrices/6680b0c0d0464c079b84e039bb50911e.csv.gz\n",
      "\u001b[32m2021-09-20 22:48:32\u001b[0m - \u001b[1;30m   INFO\u001b[0m Done. successes: 6, failures: 0\n",
      "\u001b[32m2021-09-20 22:48:33\u001b[0m - \u001b[1;30mSUCCESS\u001b[0m \u001b[1;32mMatrices were stored in /mnt/data/experiment_data/donors/demo//matrices successfully\u001b[0m\n",
      "\u001b[32m2021-09-20 22:48:33\u001b[0m - \u001b[1;30m   INFO\u001b[0m Starting parallel subset creation: 0 subsets, 2 processes\n",
      "\u001b[32m2021-09-20 22:48:33\u001b[0m - \u001b[1;30m   INFO\u001b[0m Done. successes: 0, failures: 0\n",
      "\u001b[32m2021-09-20 22:48:33\u001b[0m - \u001b[1;30m NOTICE\u001b[0m \u001b[35mNo bias audit configuration is available, so protected groups will not be created\u001b[0m\n",
      "\u001b[32m2021-09-20 22:48:33\u001b[0m - \u001b[1;30mVERBOSE\u001b[0m \u001b[34mSplit train/test tasks into three task batches. - each batch has models from all splits\u001b[0m\n",
      "\u001b[32m2021-09-20 22:48:33\u001b[0m - \u001b[1;30mVERBOSE\u001b[0m \u001b[34mBatch 1: Baselines or simple classifiers (e.g. DecisionTree, SLR) (9 tasks total)\u001b[0m\n",
      "\u001b[32m2021-09-20 22:48:33\u001b[0m - \u001b[1;30mVERBOSE\u001b[0m \u001b[34mBatch 2: Heavyweight classifiers. (3 tasks total)\u001b[0m\n",
      "\u001b[32m2021-09-20 22:48:33\u001b[0m - \u001b[1;30mVERBOSE\u001b[0m \u001b[34mBatch 3: All classifiers not found in one of the other batches. (0 tasks total)\u001b[0m\n",
      "\u001b[32m2021-09-20 22:48:33\u001b[0m - \u001b[1;30m   INFO\u001b[0m 4 models groups will be trained, tested and evaluated\n",
      "\u001b[32m2021-09-20 22:48:33\u001b[0m - \u001b[1;30m   INFO\u001b[0m Training, testing and evaluating models\n",
      "\u001b[32m2021-09-20 22:48:33\u001b[0m - \u001b[1;30mVERBOSE\u001b[0m \u001b[34m3 train/test tasks found.\u001b[0m\n",
      "\u001b[32m2021-09-20 22:48:33\u001b[0m - \u001b[1;30m   INFO\u001b[0m Starting parallelizable batch train/testing with 9 tasks, 2 processes\n",
      "\u001b[32m2021-09-20 22:48:33\u001b[0m - \u001b[1;30mVERBOSE\u001b[0m \u001b[34mTraining sklearn.tree.DecisionTreeClassifier({'max_depth': 3, 'max_features': None, 'min_samples_split': 25}) [eb3e4f5505966d8caab980f6aa4185fc] on train matrix 5e5c1ac7b501f58584be2898aefdd44f\u001b[0m\n",
      "\u001b[32m2021-09-20 22:48:33\u001b[0m - \u001b[1;30mVERBOSE\u001b[0m \u001b[34mTraining triage.component.catwalk.estimators.classifiers.ScaledLogisticRegression({'C': 0.1, 'penalty': 'l1'}) [7aff24b7500efd870629a6d5659a1b5b] on train matrix 5e5c1ac7b501f58584be2898aefdd44f\u001b[0m\n",
      "\u001b[32m2021-09-20 22:48:33\u001b[0m - \u001b[1;30m NOTICE\u001b[0m \u001b[35mFound model 79, updating non-unique attributes\u001b[0m\n",
      "\u001b[32m2021-09-20 22:48:33\u001b[0m - \u001b[1;30m NOTICE\u001b[0m \u001b[35mFound model 80, updating non-unique attributes\u001b[0m\n",
      "\u001b[32m2021-09-20 22:48:33\u001b[0m - \u001b[1;30mSUCCESS\u001b[0m \u001b[1;32mTrained model id 79: sklearn.tree.DecisionTreeClassifier({'max_depth': 3, 'max_features': None, 'min_samples_split': 25}) [eb3e4f5505966d8caab980f6aa4185fc] on train matrix 5e5c1ac7b501f58584be2898aefdd44f. \u001b[0m\n",
      "\u001b[32m2021-09-20 22:48:33\u001b[0m - \u001b[1;30mWARNING\u001b[0m \u001b[33mThe selected algorithm, doesn't support a standard way of calculate the importance of each feature used. Falling back to ad-hoc methods (e.g. in LogisticRegression we will return Odd Ratios instead coefficients)\u001b[0m\n",
      "\u001b[32m2021-09-20 22:48:33\u001b[0m - \u001b[1;30mSUCCESS\u001b[0m \u001b[1;32mTrained model id 80: triage.component.catwalk.estimators.classifiers.ScaledLogisticRegression({'C': 0.1, 'penalty': 'l1'}) [7aff24b7500efd870629a6d5659a1b5b] on train matrix 5e5c1ac7b501f58584be2898aefdd44f. \u001b[0m\n",
      "\u001b[32m2021-09-20 22:48:33\u001b[0m - \u001b[1;30m NOTICE\u001b[0m \u001b[35mYou got feature values that are out of the range: (0, 1). The feature values will cutoff to fit in the range (0, 1).\u001b[0m\n",
      "\u001b[32m2021-09-20 22:48:33\u001b[0m - \u001b[1;30m NOTICE\u001b[0m \u001b[35mNo bias audit configuration is available, so protected groups were not created: returning an empty data frame\u001b[0m\n",
      "\u001b[32m2021-09-20 22:48:33\u001b[0m - \u001b[1;30m NOTICE\u001b[0m \u001b[35mNo bias audit configuration is available, so protected groups were not created: returning an empty data frame\u001b[0m\n",
      "\u001b[32m2021-09-20 22:48:39\u001b[0m - \u001b[1;30m   INFO\u001b[0m Model 80 evaluation on test matrix 0760de28140cbfcb3a60cf887b5ae12c completed.\n",
      "\u001b[32m2021-09-20 22:48:40\u001b[0m - \u001b[1;30m NOTICE\u001b[0m \u001b[35mNo bias audit configuration is available, so protected groups were not created: returning an empty data frame\u001b[0m\n",
      "\u001b[32m2021-09-20 22:48:40\u001b[0m - \u001b[1;30m   INFO\u001b[0m Model 80 evaluation on train matrix 5e5c1ac7b501f58584be2898aefdd44f completed.\n",
      "\u001b[32m2021-09-20 22:48:40\u001b[0m - \u001b[1;30mVERBOSE\u001b[0m \u001b[34mTraining triage.component.catwalk.baselines.rankers.PercentileRankOneFeature({'descend': False, 'feature': 'project_features_entity_id_all_total_asking_price_sum'}) [84135bd0986a701edc2415009a4c05bb] on train matrix 5e5c1ac7b501f58584be2898aefdd44f\u001b[0m\n",
      "\u001b[32m2021-09-20 22:48:40\u001b[0m - \u001b[1;30m NOTICE\u001b[0m \u001b[35mFound model 81, updating non-unique attributes\u001b[0m\n",
      "\u001b[32m2021-09-20 22:48:40\u001b[0m - \u001b[1;30mSUCCESS\u001b[0m \u001b[1;32mTrained model id 81: triage.component.catwalk.baselines.rankers.PercentileRankOneFeature({'descend': False, 'feature': 'project_features_entity_id_all_total_asking_price_sum'}) [84135bd0986a701edc2415009a4c05bb] on train matrix 5e5c1ac7b501f58584be2898aefdd44f. \u001b[0m\n",
      "\u001b[32m2021-09-20 22:48:40\u001b[0m - \u001b[1;30m NOTICE\u001b[0m \u001b[35mNo bias audit configuration is available, so protected groups were not created: returning an empty data frame\u001b[0m\n",
      "\u001b[32m2021-09-20 22:48:41\u001b[0m - \u001b[1;30m   INFO\u001b[0m Model 81 evaluation on test matrix 0760de28140cbfcb3a60cf887b5ae12c completed.\n",
      "\u001b[32m2021-09-20 22:48:41\u001b[0m - \u001b[1;30m NOTICE\u001b[0m \u001b[35mNo bias audit configuration is available, so protected groups were not created: returning an empty data frame\u001b[0m\n",
      "\u001b[32m2021-09-20 22:48:41\u001b[0m - \u001b[1;30m   INFO\u001b[0m Model 79 evaluation on test matrix 0760de28140cbfcb3a60cf887b5ae12c completed.\n",
      "\u001b[32m2021-09-20 22:48:41\u001b[0m - \u001b[1;30m   INFO\u001b[0m Model 81 evaluation on train matrix 5e5c1ac7b501f58584be2898aefdd44f completed.\n",
      "\u001b[32m2021-09-20 22:48:41\u001b[0m - \u001b[1;30m NOTICE\u001b[0m \u001b[35mNo bias audit configuration is available, so protected groups were not created: returning an empty data frame\u001b[0m\n",
      "\u001b[32m2021-09-20 22:48:41\u001b[0m - \u001b[1;30mVERBOSE\u001b[0m \u001b[34mTraining sklearn.tree.DecisionTreeClassifier({'max_depth': 3, 'max_features': None, 'min_samples_split': 25}) [f80b3e79869600fa926539d3ca32e0d5] on train matrix bb56b6b45ddbeb12b7a626c08fbccbbf\u001b[0m\n",
      "\u001b[32m2021-09-20 22:48:42\u001b[0m - \u001b[1;30m NOTICE\u001b[0m \u001b[35mFound model 82, updating non-unique attributes\u001b[0m\n",
      "\u001b[32m2021-09-20 22:48:42\u001b[0m - \u001b[1;30mSUCCESS\u001b[0m \u001b[1;32mTrained model id 82: sklearn.tree.DecisionTreeClassifier({'max_depth': 3, 'max_features': None, 'min_samples_split': 25}) [f80b3e79869600fa926539d3ca32e0d5] on train matrix bb56b6b45ddbeb12b7a626c08fbccbbf. \u001b[0m\n",
      "\u001b[32m2021-09-20 22:48:42\u001b[0m - \u001b[1;30m   INFO\u001b[0m Model 79 evaluation on train matrix 5e5c1ac7b501f58584be2898aefdd44f completed.\n",
      "\u001b[32m2021-09-20 22:48:42\u001b[0m - \u001b[1;30mVERBOSE\u001b[0m \u001b[34mTraining triage.component.catwalk.estimators.classifiers.ScaledLogisticRegression({'C': 0.1, 'penalty': 'l1'}) [d292c1096ecce84f590b4ef297240501] on train matrix bb56b6b45ddbeb12b7a626c08fbccbbf\u001b[0m\n",
      "\u001b[32m2021-09-20 22:48:42\u001b[0m - \u001b[1;30m NOTICE\u001b[0m \u001b[35mYou got feature values that are out of the range: (0, 1). The feature values will cutoff to fit in the range (0, 1).\u001b[0m\n",
      "\u001b[32m2021-09-20 22:48:42\u001b[0m - \u001b[1;30m NOTICE\u001b[0m \u001b[35mNo bias audit configuration is available, so protected groups were not created: returning an empty data frame\u001b[0m\n",
      "\u001b[32m2021-09-20 22:48:42\u001b[0m - \u001b[1;30m NOTICE\u001b[0m \u001b[35mFound model 83, updating non-unique attributes\u001b[0m\n",
      "\u001b[32m2021-09-20 22:48:42\u001b[0m - \u001b[1;30mWARNING\u001b[0m \u001b[33mThe selected algorithm, doesn't support a standard way of calculate the importance of each feature used. Falling back to ad-hoc methods (e.g. in LogisticRegression we will return Odd Ratios instead coefficients)\u001b[0m\n",
      "\u001b[32m2021-09-20 22:48:42\u001b[0m - \u001b[1;30mSUCCESS\u001b[0m \u001b[1;32mTrained model id 83: triage.component.catwalk.estimators.classifiers.ScaledLogisticRegression({'C': 0.1, 'penalty': 'l1'}) [d292c1096ecce84f590b4ef297240501] on train matrix bb56b6b45ddbeb12b7a626c08fbccbbf. \u001b[0m\n",
      "\u001b[32m2021-09-20 22:48:42\u001b[0m - \u001b[1;30m NOTICE\u001b[0m \u001b[35mYou got feature values that are out of the range: (0, 1). The feature values will cutoff to fit in the range (0, 1).\u001b[0m\n",
      "\u001b[32m2021-09-20 22:48:42\u001b[0m - \u001b[1;30m NOTICE\u001b[0m \u001b[35mNo bias audit configuration is available, so protected groups were not created: returning an empty data frame\u001b[0m\n",
      "\u001b[32m2021-09-20 22:48:48\u001b[0m - \u001b[1;30m   INFO\u001b[0m Model 83 evaluation on test matrix 5dd3ba16dfde73e9a3003beafb39ec58 completed.\n",
      "\u001b[32m2021-09-20 22:48:48\u001b[0m - \u001b[1;30m NOTICE\u001b[0m \u001b[35mYou got feature values that are out of the range: (0, 1). The feature values will cutoff to fit in the range (0, 1).\u001b[0m\n",
      "\u001b[32m2021-09-20 22:48:49\u001b[0m - \u001b[1;30m NOTICE\u001b[0m \u001b[35mNo bias audit configuration is available, so protected groups were not created: returning an empty data frame\u001b[0m\n",
      "\u001b[32m2021-09-20 22:48:49\u001b[0m - \u001b[1;30m   INFO\u001b[0m Model 83 evaluation on train matrix bb56b6b45ddbeb12b7a626c08fbccbbf completed.\n",
      "\u001b[32m2021-09-20 22:48:49\u001b[0m - \u001b[1;30mVERBOSE\u001b[0m \u001b[34mTraining triage.component.catwalk.baselines.rankers.PercentileRankOneFeature({'descend': False, 'feature': 'project_features_entity_id_all_total_asking_price_sum'}) [db8bf37b54a00172c40c241e1bcdb0dd] on train matrix bb56b6b45ddbeb12b7a626c08fbccbbf\u001b[0m\n",
      "\u001b[32m2021-09-20 22:48:49\u001b[0m - \u001b[1;30m NOTICE\u001b[0m \u001b[35mFound model 84, updating non-unique attributes\u001b[0m\n",
      "\u001b[32m2021-09-20 22:48:49\u001b[0m - \u001b[1;30mSUCCESS\u001b[0m \u001b[1;32mTrained model id 84: triage.component.catwalk.baselines.rankers.PercentileRankOneFeature({'descend': False, 'feature': 'project_features_entity_id_all_total_asking_price_sum'}) [db8bf37b54a00172c40c241e1bcdb0dd] on train matrix bb56b6b45ddbeb12b7a626c08fbccbbf. \u001b[0m\n",
      "\u001b[32m2021-09-20 22:48:49\u001b[0m - \u001b[1;30m NOTICE\u001b[0m \u001b[35mNo bias audit configuration is available, so protected groups were not created: returning an empty data frame\u001b[0m\n",
      "\u001b[32m2021-09-20 22:48:50\u001b[0m - \u001b[1;30m   INFO\u001b[0m Model 84 evaluation on test matrix 5dd3ba16dfde73e9a3003beafb39ec58 completed.\n",
      "\u001b[32m2021-09-20 22:48:51\u001b[0m - \u001b[1;30m NOTICE\u001b[0m \u001b[35mNo bias audit configuration is available, so protected groups were not created: returning an empty data frame\u001b[0m\n",
      "\u001b[32m2021-09-20 22:48:51\u001b[0m - \u001b[1;30m   INFO\u001b[0m Model 82 evaluation on test matrix 5dd3ba16dfde73e9a3003beafb39ec58 completed.\n",
      "\u001b[32m2021-09-20 22:48:51\u001b[0m - \u001b[1;30m   INFO\u001b[0m Model 84 evaluation on train matrix bb56b6b45ddbeb12b7a626c08fbccbbf completed.\n",
      "\u001b[32m2021-09-20 22:48:51\u001b[0m - \u001b[1;30m NOTICE\u001b[0m \u001b[35mNo bias audit configuration is available, so protected groups were not created: returning an empty data frame\u001b[0m\n",
      "\u001b[32m2021-09-20 22:48:51\u001b[0m - \u001b[1;30mVERBOSE\u001b[0m \u001b[34mTraining sklearn.tree.DecisionTreeClassifier({'max_depth': 3, 'max_features': None, 'min_samples_split': 25}) [2e8081c5fe9c0dd73b73b9fa913b644c] on train matrix 6680b0c0d0464c079b84e039bb50911e\u001b[0m\n",
      "\u001b[32m2021-09-20 22:48:51\u001b[0m - \u001b[1;30m NOTICE\u001b[0m \u001b[35mFound model 85, updating non-unique attributes\u001b[0m\n",
      "\u001b[32m2021-09-20 22:48:51\u001b[0m - \u001b[1;30mSUCCESS\u001b[0m \u001b[1;32mTrained model id 85: sklearn.tree.DecisionTreeClassifier({'max_depth': 3, 'max_features': None, 'min_samples_split': 25}) [2e8081c5fe9c0dd73b73b9fa913b644c] on train matrix 6680b0c0d0464c079b84e039bb50911e. \u001b[0m\n",
      "\u001b[32m2021-09-20 22:48:51\u001b[0m - \u001b[1;30m   INFO\u001b[0m Model 82 evaluation on train matrix bb56b6b45ddbeb12b7a626c08fbccbbf completed.\n",
      "\u001b[32m2021-09-20 22:48:51\u001b[0m - \u001b[1;30mVERBOSE\u001b[0m \u001b[34mTraining triage.component.catwalk.estimators.classifiers.ScaledLogisticRegression({'C': 0.1, 'penalty': 'l1'}) [bf19304caf34f435ba7856d079505521] on train matrix 6680b0c0d0464c079b84e039bb50911e\u001b[0m\n",
      "\u001b[32m2021-09-20 22:48:51\u001b[0m - \u001b[1;30m NOTICE\u001b[0m \u001b[35mNo bias audit configuration is available, so protected groups were not created: returning an empty data frame\u001b[0m\n",
      "\u001b[32m2021-09-20 22:48:51\u001b[0m - \u001b[1;30m NOTICE\u001b[0m \u001b[35mFound model 86, updating non-unique attributes\u001b[0m\n",
      "\u001b[32m2021-09-20 22:48:51\u001b[0m - \u001b[1;30mWARNING\u001b[0m \u001b[33mThe selected algorithm, doesn't support a standard way of calculate the importance of each feature used. Falling back to ad-hoc methods (e.g. in LogisticRegression we will return Odd Ratios instead coefficients)\u001b[0m\n",
      "\u001b[32m2021-09-20 22:48:51\u001b[0m - \u001b[1;30mSUCCESS\u001b[0m \u001b[1;32mTrained model id 86: triage.component.catwalk.estimators.classifiers.ScaledLogisticRegression({'C': 0.1, 'penalty': 'l1'}) [bf19304caf34f435ba7856d079505521] on train matrix 6680b0c0d0464c079b84e039bb50911e. \u001b[0m\n",
      "\u001b[32m2021-09-20 22:48:52\u001b[0m - \u001b[1;30m NOTICE\u001b[0m \u001b[35mYou got feature values that are out of the range: (0, 1). The feature values will cutoff to fit in the range (0, 1).\u001b[0m\n",
      "\u001b[32m2021-09-20 22:48:52\u001b[0m - \u001b[1;30m NOTICE\u001b[0m \u001b[35mNo bias audit configuration is available, so protected groups were not created: returning an empty data frame\u001b[0m\n",
      "\u001b[32m2021-09-20 22:48:58\u001b[0m - \u001b[1;30m   INFO\u001b[0m Model 86 evaluation on test matrix b4f0e0fdf6b9f666a708b3ccbc46f0c9 completed.\n",
      "\u001b[32m2021-09-20 22:48:58\u001b[0m - \u001b[1;30m NOTICE\u001b[0m \u001b[35mNo bias audit configuration is available, so protected groups were not created: returning an empty data frame\u001b[0m\n",
      "\u001b[32m2021-09-20 22:48:58\u001b[0m - \u001b[1;30m   INFO\u001b[0m Model 86 evaluation on train matrix 6680b0c0d0464c079b84e039bb50911e completed.\n",
      "\u001b[32m2021-09-20 22:48:58\u001b[0m - \u001b[1;30mVERBOSE\u001b[0m \u001b[34mTraining triage.component.catwalk.baselines.rankers.PercentileRankOneFeature({'descend': False, 'feature': 'project_features_entity_id_all_total_asking_price_sum'}) [891ea097b085f4b92cadaaeeb4e2a5d7] on train matrix 6680b0c0d0464c079b84e039bb50911e\u001b[0m\n",
      "\u001b[32m2021-09-20 22:48:59\u001b[0m - \u001b[1;30m NOTICE\u001b[0m \u001b[35mFound model 87, updating non-unique attributes\u001b[0m\n",
      "\u001b[32m2021-09-20 22:48:59\u001b[0m - \u001b[1;30mSUCCESS\u001b[0m \u001b[1;32mTrained model id 87: triage.component.catwalk.baselines.rankers.PercentileRankOneFeature({'descend': False, 'feature': 'project_features_entity_id_all_total_asking_price_sum'}) [891ea097b085f4b92cadaaeeb4e2a5d7] on train matrix 6680b0c0d0464c079b84e039bb50911e. \u001b[0m\n",
      "\u001b[32m2021-09-20 22:48:59\u001b[0m - \u001b[1;30m NOTICE\u001b[0m \u001b[35mNo bias audit configuration is available, so protected groups were not created: returning an empty data frame\u001b[0m\n",
      "\u001b[32m2021-09-20 22:49:00\u001b[0m - \u001b[1;30m   INFO\u001b[0m Model 85 evaluation on test matrix b4f0e0fdf6b9f666a708b3ccbc46f0c9 completed.\n",
      "\u001b[32m2021-09-20 22:49:00\u001b[0m - \u001b[1;30m   INFO\u001b[0m Model 87 evaluation on test matrix b4f0e0fdf6b9f666a708b3ccbc46f0c9 completed.\n",
      "\u001b[32m2021-09-20 22:49:00\u001b[0m - \u001b[1;30m NOTICE\u001b[0m \u001b[35mNo bias audit configuration is available, so protected groups were not created: returning an empty data frame\u001b[0m\n",
      "\u001b[32m2021-09-20 22:49:00\u001b[0m - \u001b[1;30m   INFO\u001b[0m Model 85 evaluation on train matrix 6680b0c0d0464c079b84e039bb50911e completed.\n",
      "\u001b[32m2021-09-20 22:49:00\u001b[0m - \u001b[1;30m NOTICE\u001b[0m \u001b[35mNo bias audit configuration is available, so protected groups were not created: returning an empty data frame\u001b[0m\n",
      "\u001b[32m2021-09-20 22:49:01\u001b[0m - \u001b[1;30m   INFO\u001b[0m Model 87 evaluation on train matrix 6680b0c0d0464c079b84e039bb50911e completed.\n",
      "\u001b[32m2021-09-20 22:49:01\u001b[0m - \u001b[1;30m   INFO\u001b[0m Done. successes: 9, failures: 0\n",
      "\u001b[32m2021-09-20 22:49:01\u001b[0m - \u001b[1;30m   INFO\u001b[0m Starting parallelizable batch train/testing with 3 tasks, 1 processes\n",
      "\u001b[32m2021-09-20 22:49:01\u001b[0m - \u001b[1;30mVERBOSE\u001b[0m \u001b[34mTraining sklearn.ensemble.RandomForestClassifier({'max_depth': 50, 'min_samples_split': 25, 'n_estimators': 150}) [596761323a7b3064a73889fcfceacf31] on train matrix 5e5c1ac7b501f58584be2898aefdd44f\u001b[0m\n",
      "\u001b[32m2021-09-20 22:49:01\u001b[0m - \u001b[1;30m NOTICE\u001b[0m \u001b[35mFound model 88, updating non-unique attributes\u001b[0m\n",
      "\u001b[32m2021-09-20 22:49:01\u001b[0m - \u001b[1;30mSUCCESS\u001b[0m \u001b[1;32mTrained model id 88: sklearn.ensemble.RandomForestClassifier({'max_depth': 50, 'min_samples_split': 25, 'n_estimators': 150}) [596761323a7b3064a73889fcfceacf31] on train matrix 5e5c1ac7b501f58584be2898aefdd44f. \u001b[0m\n",
      "\u001b[32m2021-09-20 22:49:02\u001b[0m - \u001b[1;30m NOTICE\u001b[0m \u001b[35mNo bias audit configuration is available, so protected groups were not created: returning an empty data frame\u001b[0m\n",
      "\u001b[32m2021-09-20 22:49:03\u001b[0m - \u001b[1;30m   INFO\u001b[0m Model 88 evaluation on test matrix 0760de28140cbfcb3a60cf887b5ae12c completed.\n",
      "\u001b[32m2021-09-20 22:49:03\u001b[0m - \u001b[1;30m NOTICE\u001b[0m \u001b[35mNo bias audit configuration is available, so protected groups were not created: returning an empty data frame\u001b[0m\n",
      "\u001b[32m2021-09-20 22:49:03\u001b[0m - \u001b[1;30m   INFO\u001b[0m Model 88 evaluation on train matrix 5e5c1ac7b501f58584be2898aefdd44f completed.\n",
      "\u001b[32m2021-09-20 22:49:03\u001b[0m - \u001b[1;30mVERBOSE\u001b[0m \u001b[34mTraining sklearn.ensemble.RandomForestClassifier({'max_depth': 50, 'min_samples_split': 25, 'n_estimators': 150}) [a5236795359adb5cca41e673a268a36f] on train matrix bb56b6b45ddbeb12b7a626c08fbccbbf\u001b[0m\n",
      "\u001b[32m2021-09-20 22:49:04\u001b[0m - \u001b[1;30m NOTICE\u001b[0m \u001b[35mFound model 89, updating non-unique attributes\u001b[0m\n",
      "\u001b[32m2021-09-20 22:49:04\u001b[0m - \u001b[1;30mSUCCESS\u001b[0m \u001b[1;32mTrained model id 89: sklearn.ensemble.RandomForestClassifier({'max_depth': 50, 'min_samples_split': 25, 'n_estimators': 150}) [a5236795359adb5cca41e673a268a36f] on train matrix bb56b6b45ddbeb12b7a626c08fbccbbf. \u001b[0m\n",
      "\u001b[32m2021-09-20 22:49:04\u001b[0m - \u001b[1;30m NOTICE\u001b[0m \u001b[35mNo bias audit configuration is available, so protected groups were not created: returning an empty data frame\u001b[0m\n",
      "\u001b[32m2021-09-20 22:49:05\u001b[0m - \u001b[1;30m   INFO\u001b[0m Model 89 evaluation on test matrix 5dd3ba16dfde73e9a3003beafb39ec58 completed.\n",
      "\u001b[32m2021-09-20 22:49:06\u001b[0m - \u001b[1;30m NOTICE\u001b[0m \u001b[35mNo bias audit configuration is available, so protected groups were not created: returning an empty data frame\u001b[0m\n",
      "\u001b[32m2021-09-20 22:49:06\u001b[0m - \u001b[1;30m   INFO\u001b[0m Model 89 evaluation on train matrix bb56b6b45ddbeb12b7a626c08fbccbbf completed.\n",
      "\u001b[32m2021-09-20 22:49:06\u001b[0m - \u001b[1;30mVERBOSE\u001b[0m \u001b[34mTraining sklearn.ensemble.RandomForestClassifier({'max_depth': 50, 'min_samples_split': 25, 'n_estimators': 150}) [57eca1766645b08e094705ff471b638b] on train matrix 6680b0c0d0464c079b84e039bb50911e\u001b[0m\n",
      "\u001b[32m2021-09-20 22:49:07\u001b[0m - \u001b[1;30m NOTICE\u001b[0m \u001b[35mFound model 90, updating non-unique attributes\u001b[0m\n",
      "\u001b[32m2021-09-20 22:49:07\u001b[0m - \u001b[1;30mSUCCESS\u001b[0m \u001b[1;32mTrained model id 90: sklearn.ensemble.RandomForestClassifier({'max_depth': 50, 'min_samples_split': 25, 'n_estimators': 150}) [57eca1766645b08e094705ff471b638b] on train matrix 6680b0c0d0464c079b84e039bb50911e. \u001b[0m\n",
      "\u001b[32m2021-09-20 22:49:07\u001b[0m - \u001b[1;30m NOTICE\u001b[0m \u001b[35mNo bias audit configuration is available, so protected groups were not created: returning an empty data frame\u001b[0m\n",
      "\u001b[32m2021-09-20 22:49:08\u001b[0m - \u001b[1;30m   INFO\u001b[0m Model 90 evaluation on test matrix b4f0e0fdf6b9f666a708b3ccbc46f0c9 completed.\n",
      "\u001b[32m2021-09-20 22:49:09\u001b[0m - \u001b[1;30m NOTICE\u001b[0m \u001b[35mNo bias audit configuration is available, so protected groups were not created: returning an empty data frame\u001b[0m\n",
      "\u001b[32m2021-09-20 22:49:09\u001b[0m - \u001b[1;30m   INFO\u001b[0m Model 90 evaluation on train matrix 6680b0c0d0464c079b84e039bb50911e completed.\n",
      "\u001b[32m2021-09-20 22:49:09\u001b[0m - \u001b[1;30m   INFO\u001b[0m Done. successes: 3, failures: 0\n",
      "\u001b[32m2021-09-20 22:49:09\u001b[0m - \u001b[1;30m   INFO\u001b[0m Starting parallelizable batch train/testing with 0 tasks, 2 processes\n",
      "\u001b[32m2021-09-20 22:49:09\u001b[0m - \u001b[1;30m   INFO\u001b[0m Done. successes: 0, failures: 0\n",
      "\u001b[32m2021-09-20 22:49:09\u001b[0m - \u001b[1;30mSUCCESS\u001b[0m \u001b[1;32mTraining, testing and evaluatiog models completed\u001b[0m\n",
      "\u001b[32m2021-09-20 22:49:09\u001b[0m - \u001b[1;30mSUCCESS\u001b[0m \u001b[1;32mAll matrices that were supposed to be build were built. Awesome!\u001b[0m\n",
      "\u001b[32m2021-09-20 22:49:09\u001b[0m - \u001b[1;30mSUCCESS\u001b[0m \u001b[1;32mAll models that were supposed to be trained were trained. Awesome!\u001b[0m\n",
      "CPU times: user 3.47 s, sys: 1.23 s, total: 4.7 s\n",
      "Wall time: 1min 12s\n"
     ]
    }
   ],
   "source": [
    "%%time\n",
    "experiment.run()"
   ]
  },
  {
   "cell_type": "markdown",
   "metadata": {},
   "source": [
    "#### Model evaluations"
   ]
  },
  {
   "cell_type": "code",
   "execution_count": 47,
   "metadata": {},
   "outputs": [
    {
     "data": {
      "text/plain": [
       "'4b137fe4406b4d943768d3047dbcc0b1'"
      ]
     },
     "execution_count": 47,
     "metadata": {},
     "output_type": "execute_result"
    }
   ],
   "source": [
    "q = \"select run_hash from triage_metadata.triage_runs order by start_time desc limit 1;\"\n",
    "\n",
    "experiment_hash = pd.read_sql(q, conn)['run_hash'].iloc[0]\n",
    "experiment_hash"
   ]
  },
  {
   "cell_type": "code",
   "execution_count": 48,
   "metadata": {},
   "outputs": [
    {
     "data": {
      "text/plain": [
       "'2012-11-01'"
      ]
     },
     "execution_count": 48,
     "metadata": {},
     "output_type": "execute_result"
    }
   ],
   "source": [
    "q = \"\"\"\n",
    "    select \n",
    "        to_char(max(train_end_time), 'YYYY-MM-DD') as last_time\n",
    "    from triage_metadata.experiment_models\n",
    "    join triage_metadata.models using(model_hash)\n",
    "    where experiment_hash = '{experiment_hash}'\n",
    "\"\"\".format(experiment_hash=experiment_hash)\n",
    "\n",
    "last_train_end_time = pd.read_sql(q, conn)['last_time'].iloc[0]\n",
    "last_train_end_time"
   ]
  },
  {
   "cell_type": "code",
   "execution_count": 49,
   "metadata": {},
   "outputs": [
    {
     "data": {
      "text/html": [
       "<div>\n",
       "<style scoped>\n",
       "    .dataframe tbody tr th:only-of-type {\n",
       "        vertical-align: middle;\n",
       "    }\n",
       "\n",
       "    .dataframe tbody tr th {\n",
       "        vertical-align: top;\n",
       "    }\n",
       "\n",
       "    .dataframe thead th {\n",
       "        text-align: right;\n",
       "    }\n",
       "</style>\n",
       "<table border=\"1\" class=\"dataframe\">\n",
       "  <thead>\n",
       "    <tr style=\"text-align: right;\">\n",
       "      <th></th>\n",
       "      <th>model_id</th>\n",
       "      <th>model_type</th>\n",
       "      <th>metric</th>\n",
       "      <th>parameter</th>\n",
       "      <th>best_value</th>\n",
       "      <th>worst_value</th>\n",
       "      <th>stochastic_value</th>\n",
       "    </tr>\n",
       "  </thead>\n",
       "  <tbody>\n",
       "    <tr>\n",
       "      <th>0</th>\n",
       "      <td>85</td>\n",
       "      <td>sklearn.tree.DecisionTreeClassifier</td>\n",
       "      <td>precision@</td>\n",
       "      <td>15_pct</td>\n",
       "      <td>0.858586</td>\n",
       "      <td>0.070707</td>\n",
       "      <td>0.436700</td>\n",
       "    </tr>\n",
       "    <tr>\n",
       "      <th>1</th>\n",
       "      <td>86</td>\n",
       "      <td>triage.component.catwalk.estimators.classifier...</td>\n",
       "      <td>precision@</td>\n",
       "      <td>15_pct</td>\n",
       "      <td>0.525253</td>\n",
       "      <td>0.363636</td>\n",
       "      <td>0.450505</td>\n",
       "    </tr>\n",
       "    <tr>\n",
       "      <th>2</th>\n",
       "      <td>87</td>\n",
       "      <td>triage.component.catwalk.baselines.rankers.Per...</td>\n",
       "      <td>precision@</td>\n",
       "      <td>15_pct</td>\n",
       "      <td>0.474747</td>\n",
       "      <td>0.474747</td>\n",
       "      <td>0.474747</td>\n",
       "    </tr>\n",
       "    <tr>\n",
       "      <th>3</th>\n",
       "      <td>90</td>\n",
       "      <td>sklearn.ensemble.RandomForestClassifier</td>\n",
       "      <td>precision@</td>\n",
       "      <td>15_pct</td>\n",
       "      <td>0.444444</td>\n",
       "      <td>0.444444</td>\n",
       "      <td>0.444444</td>\n",
       "    </tr>\n",
       "  </tbody>\n",
       "</table>\n",
       "</div>"
      ],
      "text/plain": [
       "   model_id                                         model_type      metric  \\\n",
       "0        85                sklearn.tree.DecisionTreeClassifier  precision@   \n",
       "1        86  triage.component.catwalk.estimators.classifier...  precision@   \n",
       "2        87  triage.component.catwalk.baselines.rankers.Per...  precision@   \n",
       "3        90            sklearn.ensemble.RandomForestClassifier  precision@   \n",
       "\n",
       "  parameter  best_value  worst_value  stochastic_value  \n",
       "0    15_pct    0.858586     0.070707          0.436700  \n",
       "1    15_pct    0.525253     0.363636          0.450505  \n",
       "2    15_pct    0.474747     0.474747          0.474747  \n",
       "3    15_pct    0.444444     0.444444          0.444444  "
      ]
     },
     "execution_count": 49,
     "metadata": {},
     "output_type": "execute_result"
    }
   ],
   "source": [
    "q = \"\"\"\n",
    "    select \n",
    "        model_id, model_type, metric, parameter, best_value, worst_value, stochastic_value\n",
    "    from triage_metadata.experiment_models\n",
    "    join triage_metadata.models using(model_hash)\n",
    "    join test_results.evaluations using(model_id)\n",
    "    where experiment_hash = '{experiment_hash}' and train_end_time='{last_split}' \n",
    "    and metric='precision@' and parameter='15_pct'\n",
    "\"\"\".format(\n",
    "    experiment_hash = experiment_hash,\n",
    "    last_split=last_train_end_time\n",
    ")\n",
    "\n",
    "evals = pd.read_sql(q, conn)\n",
    "evals"
   ]
  },
  {
   "cell_type": "code",
   "execution_count": null,
   "metadata": {},
   "outputs": [],
   "source": []
  }
 ],
 "metadata": {
  "kernelspec": {
   "display_name": "triage-demo",
   "language": "python",
   "name": "triage-demo"
  },
  "language_info": {
   "codemirror_mode": {
    "name": "ipython",
    "version": 3
   },
   "file_extension": ".py",
   "mimetype": "text/x-python",
   "name": "python",
   "nbconvert_exporter": "python",
   "pygments_lexer": "ipython3",
   "version": "3.7.7"
  }
 },
 "nbformat": 4,
 "nbformat_minor": 4
}
