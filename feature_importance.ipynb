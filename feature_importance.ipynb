{
 "cells": [
  {
   "cell_type": "code",
   "execution_count": 1,
   "id": "fcfae29d",
   "metadata": {},
   "outputs": [],
   "source": [
    "from triage.component.audition import Auditioner\n",
    "from triage.component.audition.pre_audition import PreAudition\n",
    "from triage.component.audition.rules_maker import SimpleRuleMaker, RandomGroupRuleMaker, create_selection_grid\n",
    "\n",
    "from matplotlib import pyplot as plt\n",
    "plt.style.use('ggplot')\n",
    "%matplotlib inline\n",
    "\n",
    "import yaml\n",
    "import sqlalchemy\n",
    "\n",
    "import logging\n",
    "logging.basicConfig(level=logging.WARNING)\n",
    "\n",
    "import pandas as pd\n",
    "pd.set_option('precision', 4)\n",
    "\n",
    "import numpy as np"
   ]
  },
  {
   "cell_type": "code",
   "execution_count": 2,
   "id": "75ac2e27",
   "metadata": {},
   "outputs": [],
   "source": [
    "with open('database.yaml') as fd:\n",
    "    config = yaml.load(fd, Loader=yaml.FullLoader)\n",
    "    dburl = sqlalchemy.engine.url.URL(\n",
    "        \"postgres\",\n",
    "        host=config[\"host\"],\n",
    "        username=config[\"user\"],\n",
    "        database=config[\"db\"],\n",
    "        password=config[\"pass\"],\n",
    "        port=config[\"port\"],\n",
    "    )\n",
    "    conn = sqlalchemy.create_engine(dburl, poolclass=sqlalchemy.pool.QueuePool)"
   ]
  },
  {
   "cell_type": "code",
   "execution_count": 3,
   "id": "9fd6be54",
   "metadata": {},
   "outputs": [],
   "source": [
    "feature_query = \"select feature from train_results.feature_importances where model_id=31403\"\n",
    "all_features = pd.read_sql(feature_query, conn)['feature'].to_list()\n",
    "all_features = [x[x.index('id_all')+7:] for x in all_features]"
   ]
  },
  {
   "cell_type": "code",
   "execution_count": 4,
   "id": "10331582",
   "metadata": {},
   "outputs": [],
   "source": [
    "q = \"select model_id, model_group_id, train_end_time from triage_metadata.models where model_group_id in\\\n",
    "    (1613, 1611, 1604, 1609, 1610, 1601, 1612, 1570, 1571, 1572)\"\n",
    "experiment_info = pd.read_sql(q, conn)"
   ]
  },
  {
   "cell_type": "code",
   "execution_count": 5,
   "id": "3e7c4fc5",
   "metadata": {},
   "outputs": [],
   "source": [
    "def get_all_models(model_group_id):\n",
    "    q = \"select train_end_time, model_id from triage_metadata.models where model_group_id=\" + \\\n",
    "        str(model_group_id) + \\\n",
    "        \"order by train_end_time\"\n",
    "    models = pd.read_sql(q, conn)\n",
    "    return dict(zip(models['train_end_time'].astype(str).to_list(), models['model_id'].to_list()))"
   ]
  },
  {
   "cell_type": "code",
   "execution_count": 6,
   "id": "bf432516",
   "metadata": {},
   "outputs": [],
   "source": [
    "def get_importance(model_id):\n",
    "    q = \"select feature, feature_importance from train_results.feature_importances where model_id=\" + str(model_id) + \"order by feature\"\n",
    "    features = pd.read_sql(q, conn)\n",
    "    return features['feature_importance'].to_list()"
   ]
  },
  {
   "cell_type": "code",
   "execution_count": 7,
   "id": "26132829",
   "metadata": {},
   "outputs": [],
   "source": [
    "def get_all_importance(model_group_id):\n",
    "    all_importance = []\n",
    "    for time, model_id in get_all_models(model_group_id).items():\n",
    "        importance = get_importance(model_id)\n",
    "        all_importance.append(importance)\n",
    "    return np.array(all_importance).T"
   ]
  },
  {
   "cell_type": "code",
   "execution_count": 8,
   "id": "d852c141",
   "metadata": {},
   "outputs": [],
   "source": [
    "def plot(importance):\n",
    "    x = range(importance.shape[1])\n",
    "    offset = np.zeros(importance.shape[1])\n",
    "#     colors = plt.cm.BuPu(np.linspace(0, 0.5, importance.shape[0]))\n",
    "    for idx,row in enumerate(importance):\n",
    "        plt.bar(x, row, bottom=offset)\n",
    "        offset = offset + row\n",
    "    plt.show()"
   ]
  },
  {
   "cell_type": "code",
   "execution_count": 9,
   "id": "cf4f1ed2",
   "metadata": {},
   "outputs": [
    {
     "data": {
      "image/png": "[encoded data removed]",
      "text/plain": [
       "<Figure size 432x288 with 1 Axes>"
      ]
     },
     "metadata": {
      "needs_background": "light"
     },
     "output_type": "display_data"
    }
   ],
   "source": [
    "imp_1613 = get_all_importance(1613)\n",
    "plot(imp_1613)"
   ]
  },
  {
   "cell_type": "code",
   "execution_count": 10,
   "id": "578a0c1a",
   "metadata": {},
   "outputs": [],
   "source": [
    "def get_top(data, k):\n",
    "    return (np.argsort(data.argsort(axis=0), axis=0) >= (data.shape[0]-k)) * data\n",
    "def get_top_mask(data, k):\n",
    "    return (np.argsort(data.argsort(axis=0), axis=0) >= (data.shape[0]-k))"
   ]
  },
  {
   "cell_type": "code",
   "execution_count": 11,
   "id": "198a7c45",
   "metadata": {},
   "outputs": [
    {
     "data": {
      "image/png": "[encoded data removed]",
      "text/plain": [
       "<Figure size 432x288 with 1 Axes>"
      ]
     },
     "metadata": {
      "needs_background": "light"
     },
     "output_type": "display_data"
    }
   ],
   "source": [
    "top_20 = get_top(imp_1613, 20)\n",
    "plot(top_20)"
   ]
  },
  {
   "cell_type": "code",
   "execution_count": 12,
   "id": "4791c09f",
   "metadata": {},
   "outputs": [
    {
     "data": {
      "image/png": "[encoded data removed]",
      "text/plain": [
       "<Figure size 432x288 with 1 Axes>"
      ]
     },
     "metadata": {
      "needs_background": "light"
     },
     "output_type": "display_data"
    }
   ],
   "source": [
    "top_10 = get_top(imp_1613, 10)\n",
    "plot(top_10)"
   ]
  },
  {
   "cell_type": "code",
   "execution_count": 13,
   "id": "8831c243",
   "metadata": {},
   "outputs": [],
   "source": [
    "top_10_m = get_top_mask(imp_1613, 10).sum(axis=1)"
   ]
  },
  {
   "cell_type": "code",
   "execution_count": 14,
   "id": "3a6d17f6",
   "metadata": {},
   "outputs": [
    {
     "name": "stdout",
     "output_type": "stream",
     "text": [
      "district_avg_donations_1yr_sum\n",
      "district_avg_donations_2yr_sum\n",
      "zip_avg_donations_1yr_sum\n",
      "zip_avg_donations_2yr_sum\n",
      "zip_funding_rate_2yr_sum\n",
      "length(essay)::int_sum\n",
      "total_asking_price_sum\n",
      "item_quantity_sum\n",
      "item_unit_price_sum\n"
     ]
    }
   ],
   "source": [
    "for idx in np.where(top_10_m > 10)[0]:\n",
    "    print(all_features[idx])"
   ]
  },
  {
   "cell_type": "code",
   "execution_count": 15,
   "id": "539554af",
   "metadata": {},
   "outputs": [
    {
     "name": "stdout",
     "output_type": "stream",
     "text": [
      "teacher_avg_donations_2yr_sum\n",
      "resource_type_Technol_sum\n"
     ]
    }
   ],
   "source": [
    "for idx in np.where((top_10_m <= 10) & (top_10_m > 5))[0]:\n",
    "    print(all_features[idx])"
   ]
  },
  {
   "cell_type": "code",
   "execution_count": 17,
   "id": "7b6e6257",
   "metadata": {},
   "outputs": [
    {
     "name": "stdout",
     "output_type": "stream",
     "text": [
      "district_avg_donations_1yr_sum\n",
      "district_avg_donations_2yr_sum\n",
      "district_funding_rate_1yr_sum\n",
      "district_funding_rate_2yr_sum\n",
      "teacher_avg_donations_1yr_sum\n",
      "teacher_avg_donations_2yr_sum\n",
      "zip_avg_donations_1yr_sum\n",
      "zip_avg_donations_2yr_sum\n",
      "zip_funding_rate_1yr_sum\n",
      "zip_funding_rate_2yr_sum\n",
      "length(essay)::int_sum\n",
      "resource_type_Books_sum\n",
      "resource_type_Technol_sum\n",
      "total_asking_price_sum\n",
      "item_quantity_sum\n",
      "item_unit_price_sum\n"
     ]
    }
   ],
   "source": [
    "top_20_m = get_top_mask(imp_1613, 20).sum(axis=1)\n",
    "for idx in np.where(top_20_m > 10)[0]:\n",
    "    print(all_features[idx])"
   ]
  },
  {
   "cell_type": "code",
   "execution_count": 18,
   "id": "dc843581",
   "metadata": {},
   "outputs": [
    {
     "name": "stdout",
     "output_type": "stream",
     "text": [
      "teacher_funding_rate_1yr_imp\n",
      "teacher_funding_rate_1yr_sum\n",
      "teacher_funding_rate_2yr_imp\n",
      "teacher_funding_rate_2yr_sum\n",
      "school_state_Califor_sum\n"
     ]
    }
   ],
   "source": [
    "for idx in np.where((top_20_m <= 10) & (top_20_m > 5))[0]:\n",
    "    print(all_features[idx])"
   ]
  },
  {
   "cell_type": "code",
   "execution_count": null,
   "id": "0ddd1f6b",
   "metadata": {},
   "outputs": [],
   "source": []
  }
 ],
 "metadata": {
  "kernelspec": {
   "display_name": "Python 3",
   "language": "python",
   "name": "python3"
  },
  "language_info": {
   "codemirror_mode": {
    "name": "ipython",
    "version": 3
   },
   "file_extension": ".py",
   "mimetype": "text/x-python",
   "name": "python",
   "nbconvert_exporter": "python",
   "pygments_lexer": "ipython3",
   "version": "3.7.7"
  }
 },
 "nbformat": 4,
 "nbformat_minor": 5
}
