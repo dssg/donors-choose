{
 "cells": [
  {
   "cell_type": "code",
   "execution_count": 1,
   "metadata": {},
   "outputs": [],
   "source": [
    "import yaml\n",
    "from datetime import datetime\n",
    "\n",
    "from sqlalchemy.engine.url import URL\n",
    "import pandas as pd\n",
    "import matplotlib\n",
    "\n",
    "from triage.util.db import create_engine\n",
    "from triage.component.audition import Auditioner\n",
    "from triage.component.audition.rules_maker import SimpleRuleMaker, RandomGroupRuleMaker, create_selection_grid\n",
    "\n",
    "from triage.component.postmodeling.contrast.parameters import PostmodelParameters\n",
    "from triage.component.postmodeling.contrast.model_evaluator import ModelEvaluator\n",
    "from triage.component.postmodeling.contrast.model_group_evaluator import ModelGroupEvaluator"
   ]
  },
  {
   "cell_type": "code",
   "execution_count": 2,
   "metadata": {},
   "outputs": [],
   "source": [
    "# %matplotlib inline"
   ]
  },
  {
   "cell_type": "code",
   "execution_count": 3,
   "metadata": {},
   "outputs": [
    {
     "name": "stderr",
     "output_type": "stream",
     "text": [
      "/home/aaron/.pyenv/versions/donors-3.7.7/lib/python3.7/site-packages/ipykernel_launcher.py:2: YAMLLoadWarning: calling yaml.load() without Loader=... is deprecated, as the default Loader is unsafe. Please read https://msg.pyyaml.org/load for full details.\n",
      "  \n"
     ]
    }
   ],
   "source": [
    "# creating database engine\n",
    "with open('database.yaml', \"r\") as f:\n",
    "    dbconfig = yaml.safe_load(f)\n",
    "\n",
    "db_url = URL(\n",
    "            'postgres',\n",
    "            host=dbconfig['host'],\n",
    "            username=dbconfig['user'],\n",
    "            database=dbconfig['db'],\n",
    "            password=dbconfig['pass'],\n",
    "            port=dbconfig['port'],\n",
    "        )\n",
    "\n",
    "db_engine = create_engine(db_url)\n"
   ]
  },
  {
   "cell_type": "code",
   "execution_count": 4,
   "metadata": {},
   "outputs": [],
   "source": [
    "experiment_id = '55d27c5ef9a448f417892bc7d20f9b6a'\n",
    "\n",
    "mg_id_query = db_engine.execute('''\n",
    "select distinct model_group_id from \n",
    "model_metadata.model_groups\n",
    "join model_metadata.models using(model_group_id)\n",
    "where built_by_experiment = '{}'\n",
    "'''.format(experiment_id))\n",
    "\n",
    "model_group_ids = [i[0] for i in mg_id_query]"
   ]
  },
  {
   "cell_type": "code",
   "execution_count": 5,
   "metadata": {},
   "outputs": [
    {
     "data": {
      "text/plain": [
       "624"
      ]
     },
     "execution_count": 5,
     "metadata": {},
     "output_type": "execute_result"
    }
   ],
   "source": [
    "len(model_group_ids)"
   ]
  },
  {
   "cell_type": "code",
   "execution_count": 6,
   "metadata": {},
   "outputs": [],
   "source": [
    "train_end_times = db_engine.execute('''\n",
    "select distinct train_end_time::timestamp\n",
    "from model_metadata.models\n",
    "where built_by_experiment ='{experiment}'\n",
    "order by train_end_time\n",
    "'''.format(experiment = experiment_id)) \n",
    "\n",
    "train_end_times = [i[0] for i in train_end_times if i[0] > datetime(2012,1,1,0,0)]"
   ]
  },
  {
   "cell_type": "code",
   "execution_count": 7,
   "metadata": {},
   "outputs": [
    {
     "data": {
      "text/plain": [
       "[datetime.datetime(2012, 2, 1, 0, 0),\n",
       " datetime.datetime(2012, 3, 1, 0, 0),\n",
       " datetime.datetime(2012, 4, 1, 0, 0),\n",
       " datetime.datetime(2012, 5, 1, 0, 0),\n",
       " datetime.datetime(2012, 6, 1, 0, 0),\n",
       " datetime.datetime(2012, 7, 1, 0, 0),\n",
       " datetime.datetime(2012, 8, 1, 0, 0),\n",
       " datetime.datetime(2012, 9, 1, 0, 0),\n",
       " datetime.datetime(2012, 10, 1, 0, 0),\n",
       " datetime.datetime(2012, 11, 1, 0, 0),\n",
       " datetime.datetime(2012, 12, 1, 0, 0),\n",
       " datetime.datetime(2013, 1, 1, 0, 0)]"
      ]
     },
     "execution_count": 7,
     "metadata": {},
     "output_type": "execute_result"
    }
   ],
   "source": [
    "train_end_times"
   ]
  },
  {
   "cell_type": "code",
   "execution_count": 8,
   "metadata": {},
   "outputs": [],
   "source": [
    "aud = Auditioner(\n",
    "    db_engine,\n",
    "    model_group_ids,\n",
    "    train_end_times,\n",
    "    initial_metric_filters=\n",
    "    [{'metric':'precision@',\n",
    "      'parameter':'50_abs',\n",
    "      'max_from_best':0.2,\n",
    "#       'max_from_best':1,\n",
    "#       'threshold_value':0\n",
    "      'threshold_value':0.5\n",
    "     }],\n",
    "    models_table = 'models',\n",
    "    directory = 'triage_output'\n",
    ")"
   ]
  },
  {
   "cell_type": "code",
   "execution_count": 9,
   "metadata": {},
   "outputs": [],
   "source": [
    "aud.plot_model_groups()"
   ]
  },
  {
   "cell_type": "code",
   "execution_count": 10,
   "metadata": {},
   "outputs": [],
   "source": [
    "ids = aud.thresholded_model_group_ids"
   ]
  },
  {
   "cell_type": "code",
   "execution_count": 11,
   "metadata": {},
   "outputs": [],
   "source": [
    "Rule1 = SimpleRuleMaker()\n",
    "Rule1.add_rule_best_current_value(metric='precision@', parameter='50_abs', n=3)\n",
    "Rule1.add_rule_best_average_value(metric = 'precision@', parameter = '50_abs', n=3)\n",
    "Rule1.add_rule_best_avg_var_penalized(metric='precision@', parameter='50_abs', stdev_penalty=[0.3, 0.5, 0.8], n=3)\n",
    "Rule1.add_rule_most_frequent_best_dist(\n",
    "        metric='precision@',\n",
    "        parameter='50_abs',\n",
    "        dist_from_best_case=[0.1, .05, .03, .01],\n",
    "        n=3)\n",
    "\n",
    "Rule2 = RandomGroupRuleMaker(n=5)\n",
    "\n",
    "rules = create_selection_grid(Rule1, Rule2)"
   ]
  },
  {
   "cell_type": "code",
   "execution_count": 12,
   "metadata": {},
   "outputs": [],
   "source": [
    "aud.register_selection_rule_grid(rules, plot=True)"
   ]
  },
  {
   "cell_type": "code",
   "execution_count": 13,
   "metadata": {
    "scrolled": true
   },
   "outputs": [
    {
     "data": {
      "text/plain": [
       "{'best_current_value_precision@_50_abs': [6082, 6117, 5955],\n",
       " 'best_average_value_precision@_50_abs': [5950, 6165, 5959],\n",
       " 'best_avg_var_penalized_precision@_50_abs_0.3': [5950, 6082, 5959],\n",
       " 'best_avg_var_penalized_precision@_50_abs_0.5': [5950, 6082, 6054],\n",
       " 'best_avg_var_penalized_precision@_50_abs_0.8': [6082, 5950, 6108],\n",
       " 'most_frequent_best_dist_precision@_50_abs_0.1': [5950, 5967, 6041],\n",
       " 'most_frequent_best_dist_precision@_50_abs_0.05': [5955, 5959, 6165],\n",
       " 'most_frequent_best_dist_precision@_50_abs_0.03': [6176, 6259, 5941],\n",
       " 'most_frequent_best_dist_precision@_50_abs_0.01': [6061, 6063, 6082],\n",
       " 'random_model_group': [5937, 6259, 5979, 5963, 6126]}"
      ]
     },
     "execution_count": 13,
     "metadata": {},
     "output_type": "execute_result"
    }
   ],
   "source": [
    "selected_groups = aud.selection_rule_model_group_ids\n",
    "selected_groups"
   ]
  },
  {
   "cell_type": "markdown",
   "metadata": {},
   "source": [
    "Calculating most commonly selected models"
   ]
  },
  {
   "cell_type": "code",
   "execution_count": 14,
   "metadata": {},
   "outputs": [
    {
     "data": {
      "text/plain": [
       "{'precision@50_abs': {'best_average_value_precision@_50_abs': 0.10872727272727273,\n",
       "  'best_avg_var_penalized_precision@_50_abs_0.3': 0.116,\n",
       "  'best_avg_var_penalized_precision@_50_abs_0.5': 0.116,\n",
       "  'best_avg_var_penalized_precision@_50_abs_0.8': 0.116,\n",
       "  'best_current_value_precision@_50_abs': 0.0905454545454545,\n",
       "  'most_frequent_best_dist_precision@_50_abs_0.01': 0.10145454545454546,\n",
       "  'most_frequent_best_dist_precision@_50_abs_0.03': 0.0996363636363636,\n",
       "  'most_frequent_best_dist_precision@_50_abs_0.05': 0.10145454545454545,\n",
       "  'most_frequent_best_dist_precision@_50_abs_0.1': 0.09418181818181816,\n",
       "  'random_model_group': 0.10872727272727274}}"
      ]
     },
     "execution_count": 14,
     "metadata": {},
     "output_type": "execute_result"
    }
   ],
   "source": [
    "aud.average_regret_for_rules"
   ]
  },
  {
   "cell_type": "code",
   "execution_count": 15,
   "metadata": {},
   "outputs": [
    {
     "data": {
      "text/plain": [
       "{6082: 5,\n",
       " 6117: 1,\n",
       " 5955: 2,\n",
       " 5950: 5,\n",
       " 6165: 2,\n",
       " 5959: 3,\n",
       " 6054: 1,\n",
       " 6108: 1,\n",
       " 5967: 1,\n",
       " 6041: 1,\n",
       " 6176: 1,\n",
       " 6259: 2,\n",
       " 5941: 1,\n",
       " 6061: 1,\n",
       " 6063: 1,\n",
       " 5937: 1,\n",
       " 5979: 1,\n",
       " 5963: 1,\n",
       " 6126: 1}"
      ]
     },
     "execution_count": 15,
     "metadata": {},
     "output_type": "execute_result"
    }
   ],
   "source": [
    "mgs = {}\n",
    "for value in selected_groups.values():\n",
    "    for group_id in value:\n",
    "        if group_id in mgs.keys():\n",
    "            mgs[group_id] += 1\n",
    "        else:\n",
    "            mgs[group_id] = 1\n",
    "\n",
    "mgs"
   ]
  },
  {
   "cell_type": "code",
   "execution_count": 16,
   "metadata": {
    "scrolled": true
   },
   "outputs": [
    {
     "data": {
      "text/plain": [
       "[(5955, 'sklearn.ensemble.RandomForestClassifier', {'max_depth': 5, 'max_features': 12, 'n_estimators': 1000, 'min_samples_split': 25}),\n",
       " (6082, 'sklearn.ensemble.RandomForestClassifier', {'max_depth': 10, 'max_features': 12, 'n_estimators': 1000, 'min_samples_split': 50}),\n",
       " (6117, 'sklearn.ensemble.RandomForestClassifier', {'max_depth': 10, 'max_features': 12, 'n_estimators': 10000, 'min_samples_split': 50})]"
      ]
     },
     "execution_count": 16,
     "metadata": {},
     "output_type": "execute_result"
    }
   ],
   "source": [
    "model_groups = db_engine.execute('''\n",
    "select distinct \n",
    "    model_group_id, \n",
    "    model_type, \n",
    "    hyperparameters \n",
    "from model_metadata.model_groups\n",
    "where model_group_id = any(array{})\n",
    "'''.format(selected_groups['best_current_value_precision@_50_abs']))\n",
    "\n",
    "[i for i in model_groups]"
   ]
  },
  {
   "cell_type": "code",
   "execution_count": 17,
   "metadata": {},
   "outputs": [],
   "source": [
    "aud.save_result_model_group_ids(fname=\"results_model_group_ids.json\")"
   ]
  }
 ],
 "metadata": {
  "kernelspec": {
   "display_name": "Python 3 (ipykernel)",
   "language": "python",
   "name": "python3"
  },
  "language_info": {
   "codemirror_mode": {
    "name": "ipython",
    "version": 3
   },
   "file_extension": ".py",
   "mimetype": "text/x-python",
   "name": "python",
   "nbconvert_exporter": "python",
   "pygments_lexer": "ipython3",
   "version": "3.8.2"
  }
 },
 "nbformat": 4,
 "nbformat_minor": 4
}
